{
 "cells": [
  {
   "cell_type": "markdown",
   "id": "f19d561b",
   "metadata": {},
   "source": [
    "## MergeSort(병합정렬)\n",
    "시간 복잡도 : O(nlogn)   \n",
    "공간 복잡도 : O(n)"
   ]
  },
  {
   "cell_type": "code",
   "execution_count": 1,
   "id": "6897d279",
   "metadata": {},
   "outputs": [],
   "source": [
    "def MergeSort(arr):\n",
    "    if len(arr) < 2 : return arr\n",
    "    \n",
    "    mid = len(arr) // 2\n",
    "    low_arr = MergeSort(arr[:mid])\n",
    "    high_arr = MergeSort(arr[mid:])\n",
    "    \n",
    "    merged_arr = []\n",
    "    l = h = 0\n",
    "    while l < len(low_arr) and h < len(high_arr):\n",
    "        if low_arr[l] < high_arr[h] :\n",
    "            merged_arr.append(low_arr[l])\n",
    "            l += 1\n",
    "        else:\n",
    "            merged_arr.append(high_arr[h])\n",
    "            h += 1\n",
    "    merged_arr += low_arr[l:]\n",
    "    merged_arr += high_arr[h:]\n",
    "    return merged_arr"
   ]
  },
  {
   "cell_type": "code",
   "execution_count": 2,
   "id": "04c5dbbc",
   "metadata": {},
   "outputs": [
    {
     "data": {
      "text/plain": [
       "[9, 17, 20, 50, 61, 83, 115]"
      ]
     },
     "execution_count": 2,
     "metadata": {},
     "output_type": "execute_result"
    }
   ],
   "source": [
    "sample = [83, 20, 9, 50, 115, 61, 17]\n",
    "MergeSort(sample)"
   ]
  }
 ],
 "metadata": {
  "kernelspec": {
   "display_name": "Python 3",
   "language": "python",
   "name": "python3"
  },
  "language_info": {
   "codemirror_mode": {
    "name": "ipython",
    "version": 3
   },
   "file_extension": ".py",
   "mimetype": "text/x-python",
   "name": "python",
   "nbconvert_exporter": "python",
   "pygments_lexer": "ipython3",
   "version": "3.8.8"
  }
 },
 "nbformat": 4,
 "nbformat_minor": 5
}
