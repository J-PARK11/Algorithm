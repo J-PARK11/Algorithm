{
 "cells": [
  {
   "cell_type": "markdown",
   "id": "1306fe9d",
   "metadata": {},
   "source": [
    "## Fibonacci(피보나치)"
   ]
  },
  {
   "cell_type": "code",
   "execution_count": 2,
   "id": "d90f988e",
   "metadata": {},
   "outputs": [
    {
     "name": "stdout",
     "output_type": "stream",
     "text": [
      "[0, 1, 1, 2, 3, 5, 8, 13, 21, 34, 55, 89, 144]\n"
     ]
    }
   ],
   "source": [
    "print([0, 1, 1, 2, 3, 5, 8, 13, 21, 34, 55, 89, 144])"
   ]
  },
  {
   "cell_type": "markdown",
   "id": "8feda899",
   "metadata": {},
   "source": [
    "### 1. 재귀 알고리즘"
   ]
  },
  {
   "cell_type": "code",
   "execution_count": 7,
   "id": "be9547b9",
   "metadata": {},
   "outputs": [
    {
     "data": {
      "text/plain": [
       "5"
      ]
     },
     "execution_count": 7,
     "metadata": {},
     "output_type": "execute_result"
    }
   ],
   "source": [
    "def recursive_fib(n):\n",
    "    if n == 0:\n",
    "        return 0\n",
    "    elif n == 1:\n",
    "        return 1\n",
    "    \n",
    "    else:\n",
    "        return recursive_fib(n-1) + recursive_fib(n-2)\n",
    "\n",
    "recursive_fib(5)"
   ]
  },
  {
   "cell_type": "markdown",
   "id": "0cfffcdc",
   "metadata": {},
   "source": [
    "### 2. 메모이제이션"
   ]
  },
  {
   "cell_type": "code",
   "execution_count": 8,
   "id": "e7272fca",
   "metadata": {},
   "outputs": [
    {
     "data": {
      "text/plain": [
       "5"
      ]
     },
     "execution_count": 8,
     "metadata": {},
     "output_type": "execute_result"
    }
   ],
   "source": [
    "def memo_fib(n):\n",
    "    memo = {0:0, 1:1}\n",
    "    \n",
    "    def helper(n):\n",
    "        if n not in memo:\n",
    "            memo[n] = helper(n-1) + helper(n-2)        \n",
    "        return memo[n]\n",
    "\n",
    "    return helper(n)\n",
    "\n",
    "memo_fib(5)"
   ]
  },
  {
   "cell_type": "markdown",
   "id": "c6c2f0e6",
   "metadata": {},
   "source": [
    "### 3. 최적 알고리즘"
   ]
  },
  {
   "cell_type": "code",
   "execution_count": 9,
   "id": "6fc2b658",
   "metadata": {},
   "outputs": [
    {
     "data": {
      "text/plain": [
       "5"
      ]
     },
     "execution_count": 9,
     "metadata": {},
     "output_type": "execute_result"
    }
   ],
   "source": [
    "def fib(n):\n",
    "    p2, p1 = 0, 1\n",
    "    for i in range(n):\n",
    "        p2, p1 = p1, p1+p2\n",
    "    return p2\n",
    "\n",
    "fib(5)"
   ]
  }
 ],
 "metadata": {
  "kernelspec": {
   "display_name": "Python 3",
   "language": "python",
   "name": "python3"
  },
  "language_info": {
   "codemirror_mode": {
    "name": "ipython",
    "version": 3
   },
   "file_extension": ".py",
   "mimetype": "text/x-python",
   "name": "python",
   "nbconvert_exporter": "python",
   "pygments_lexer": "ipython3",
   "version": "3.8.8"
  }
 },
 "nbformat": 4,
 "nbformat_minor": 5
}
