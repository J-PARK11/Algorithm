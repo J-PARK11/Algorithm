{
 "cells": [
  {
   "cell_type": "markdown",
   "id": "dbe894a4",
   "metadata": {},
   "source": [
    "# Binary Search"
   ]
  },
  {
   "cell_type": "markdown",
   "id": "ab536d5e",
   "metadata": {},
   "source": [
    "## 순차 탐색"
   ]
  },
  {
   "cell_type": "code",
   "execution_count": 2,
   "id": "bcedc9e2",
   "metadata": {},
   "outputs": [
    {
     "name": "stdout",
     "output_type": "stream",
     "text": [
      "5 dongbin\n",
      "hanul jonggu dongbin taeil sangwook\n"
     ]
    },
    {
     "data": {
      "text/plain": [
       "3"
      ]
     },
     "execution_count": 2,
     "metadata": {},
     "output_type": "execute_result"
    }
   ],
   "source": [
    "def sequential_search(n,target,array):\n",
    "    for i in range(n):\n",
    "        if array[i] == target:\n",
    "            return i+1\n",
    "\n",
    "N, target = input().split()\n",
    "array = input().split()\n",
    "sequential_search(int(N),target,array)"
   ]
  },
  {
   "cell_type": "markdown",
   "id": "78c29d49",
   "metadata": {},
   "source": [
    "## 재귀 함수 이진 탐색"
   ]
  },
  {
   "cell_type": "code",
   "execution_count": 4,
   "id": "738a3cc9",
   "metadata": {},
   "outputs": [
    {
     "data": {
      "text/plain": [
       "4"
      ]
     },
     "execution_count": 4,
     "metadata": {},
     "output_type": "execute_result"
    }
   ],
   "source": [
    "def recursive_binary_search(array,target,start,end):\n",
    "    if start > end : return None\n",
    "    mid = (start+end) // 2\n",
    "    \n",
    "    if array[mid] == target:\n",
    "        return mid\n",
    "    elif array[mid] < target:\n",
    "        return recursive_binary_search(array,target,mid+1,end)\n",
    "    else:\n",
    "        return recursive_binary_search(array,target,start,mid-1)\n",
    "    \n",
    "array = [1,3,5,7,9,11,13,15,17,19]\n",
    "recursive_binary_search(array,7,0,len(array)-1) + 1"
   ]
  },
  {
   "cell_type": "markdown",
   "id": "62c74dda",
   "metadata": {},
   "source": [
    "## 반복 함수 이진 탐색"
   ]
  },
  {
   "cell_type": "code",
   "execution_count": 5,
   "id": "3ef7267e",
   "metadata": {},
   "outputs": [
    {
     "data": {
      "text/plain": [
       "4"
      ]
     },
     "execution_count": 5,
     "metadata": {},
     "output_type": "execute_result"
    }
   ],
   "source": [
    "def itertive_binary_search(array,target,start,end):\n",
    "    while start < end:\n",
    "        mid = (start+end) // 2\n",
    "        if array[mid] == target:\n",
    "            return mid\n",
    "        elif array[mid] > target:\n",
    "            end = mid -1\n",
    "        else:\n",
    "            start = mid+1\n",
    "    return None\n",
    "\n",
    "array = [1,3,5,7,9,11,13,15,17,19]\n",
    "recursive_binary_search(array,7,0,len(array)-1) + 1"
   ]
  },
  {
   "cell_type": "markdown",
   "id": "67ca2d39",
   "metadata": {},
   "source": [
    "## 실전 문제 : 부품 찾기"
   ]
  },
  {
   "cell_type": "code",
   "execution_count": 9,
   "id": "4af2a891",
   "metadata": {},
   "outputs": [
    {
     "name": "stdout",
     "output_type": "stream",
     "text": [
      "5\n",
      "8 3 7 9 2\n",
      "3\n",
      "5 7 9\n",
      "no\n",
      "yes\n",
      "yes\n"
     ]
    }
   ],
   "source": [
    "N = int(input())\n",
    "source = list(map(int,input().split()))\n",
    "M = int(input())\n",
    "require = list(map(int,input().split()))\n",
    "\n",
    "def binary_search(array,target,start,end):\n",
    "    if start >= end : return -2\n",
    "    mid = (start+end) // 2\n",
    "    \n",
    "    if array[mid] == target : return mid\n",
    "    elif array[mid] > target : \n",
    "        return binary_search(array,target,start,mid-1)\n",
    "    else: \n",
    "        return binary_search(array,target,mid+1,end)\n",
    "\n",
    "    \n",
    "source.sort()\n",
    "    \n",
    "for order in require:\n",
    "    result = binary_search(source,order,0,len(source)-1)+1\n",
    "    if result >= 0 :\n",
    "        print('yes',end=' ')\n",
    "    else:\n",
    "        print('no', end=' ')"
   ]
  },
  {
   "cell_type": "code",
   "execution_count": 11,
   "id": "b03a8e71",
   "metadata": {},
   "outputs": [
    {
     "name": "stdout",
     "output_type": "stream",
     "text": [
      "5\n",
      "8 3 7 9 2\n",
      "3\n",
      "5 7 9\n",
      "no yes yes "
     ]
    }
   ],
   "source": [
    "N = int(input())\n",
    "source = list(map(int,input().split()))\n",
    "M = int(input())\n",
    "require = list(map(int,input().split()))\n",
    "\n",
    "count = [0]*(max(source)+1)\n",
    "\n",
    "for i in source:\n",
    "    count[i] += 1\n",
    "\n",
    "for j in require:\n",
    "    if count[j] > 0:\n",
    "        print('yes', end=' ')\n",
    "    else:\n",
    "        print('no', end=' ')"
   ]
  },
  {
   "cell_type": "code",
   "execution_count": 12,
   "id": "c43b731a",
   "metadata": {},
   "outputs": [
    {
     "name": "stdout",
     "output_type": "stream",
     "text": [
      "5\n",
      "8 3 7 9 2\n",
      "3\n",
      "5 7 9\n",
      "no yes yes "
     ]
    }
   ],
   "source": [
    "N = int(input())\n",
    "source = list(map(int,input().split()))\n",
    "M = int(input())\n",
    "require = list(map(int,input().split()))\n",
    "\n",
    "source = set(source)\n",
    "\n",
    "for i in require:\n",
    "    if i in source:\n",
    "        print('yes',end=' ')\n",
    "    else:\n",
    "        print('no',end=' ')"
   ]
  },
  {
   "cell_type": "markdown",
   "id": "aa096271",
   "metadata": {},
   "source": [
    "## 실전 문제 : 떡볶이 떡 만들기"
   ]
  },
  {
   "cell_type": "code",
   "execution_count": 27,
   "id": "0e8fd824",
   "metadata": {},
   "outputs": [
    {
     "name": "stdout",
     "output_type": "stream",
     "text": [
      "4 6\n",
      "19 15 10 17\n",
      "15\n"
     ]
    }
   ],
   "source": [
    "N, M = map(int,input().split())\n",
    "array = list(map(int,input().split()))\n",
    "\n",
    "result=[]\n",
    "def binary_search(array,target,start,end):\n",
    "    if start > end : return None\n",
    "    \n",
    "    mid = (start+end) // 2\n",
    "    left = 0\n",
    "    for i in range(N):\n",
    "        if array[i]-mid > 0:\n",
    "            left += (array[i]-mid)\n",
    "    if left >= target:\n",
    "        result.append(mid)\n",
    "        binary_search(array,target,mid+1,end)\n",
    "    else:\n",
    "        binary_search(array,target,start,mid-1)\n",
    "\n",
    "binary_search(array,M,1,max(array))\n",
    "print(max(result))"
   ]
  },
  {
   "cell_type": "code",
   "execution_count": null,
   "id": "81b682e5",
   "metadata": {},
   "outputs": [],
   "source": []
  }
 ],
 "metadata": {
  "kernelspec": {
   "display_name": "Python 3",
   "language": "python",
   "name": "python3"
  },
  "language_info": {
   "codemirror_mode": {
    "name": "ipython",
    "version": 3
   },
   "file_extension": ".py",
   "mimetype": "text/x-python",
   "name": "python",
   "nbconvert_exporter": "python",
   "pygments_lexer": "ipython3",
   "version": "3.8.8"
  }
 },
 "nbformat": 4,
 "nbformat_minor": 5
}
