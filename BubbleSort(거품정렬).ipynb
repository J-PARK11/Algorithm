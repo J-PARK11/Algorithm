{
 "cells": [
  {
   "cell_type": "markdown",
   "id": "9d364cbf",
   "metadata": {},
   "source": [
    "## BubbleSort(거품정렬)\n",
    "시간 복잡도 : O(N^2)  \n",
    "공간 복잡도 : O(1)"
   ]
  },
  {
   "cell_type": "code",
   "execution_count": 1,
   "id": "afbb6310",
   "metadata": {},
   "outputs": [
    {
     "data": {
      "text/plain": [
       "[1, 2, 3, 4, 5]"
      ]
     },
     "execution_count": 1,
     "metadata": {},
     "output_type": "execute_result"
    }
   ],
   "source": [
    "def BubbleSort(arr):\n",
    "    for i in range(len(arr)-1, 0, -1):\n",
    "        for j in range(i):\n",
    "            if arr[j] > arr[j+1]:\n",
    "                arr[j], arr[j+1] = arr[j+1], arr[j]\n",
    "    return arr\n",
    "BubbleSort([4,3,5,1,2])"
   ]
  },
  {
   "cell_type": "code",
   "execution_count": 3,
   "id": "cbe338b4",
   "metadata": {},
   "outputs": [
    {
     "data": {
      "text/plain": [
       "[1, 2, 3, 4, 5]"
      ]
     },
     "execution_count": 3,
     "metadata": {},
     "output_type": "execute_result"
    }
   ],
   "source": [
    "def bubblesort(arr):\n",
    "    for i in range(len(arr)-1, 0, -1):\n",
    "        swapped = False\n",
    "        for j in range(i):\n",
    "            if arr[j] > arr[j+1]:\n",
    "                arr[j],arr[j+1] = arr[j+1],arr[j]\n",
    "                swapped=True\n",
    "        if not swapped : break\n",
    "    return arr\n",
    "bubblesort([4,3,5,1,2])"
   ]
  },
  {
   "cell_type": "code",
   "execution_count": 4,
   "id": "d3542d78",
   "metadata": {},
   "outputs": [
    {
     "data": {
      "text/plain": [
       "[1, 2, 3, 4, 5]"
      ]
     },
     "execution_count": 4,
     "metadata": {},
     "output_type": "execute_result"
    }
   ],
   "source": [
    "def Bubblesort(arr):\n",
    "    end = len(arr) - 1\n",
    "    while end > 0 :\n",
    "        last_swap = 0\n",
    "        for i in range(end):\n",
    "            if arr[i] > arr[i+1]:\n",
    "                arr[i],arr[i+1] = arr[i+1],arr[i]\n",
    "                last_swap=i\n",
    "        end = last_swap\n",
    "    return arr\n",
    "Bubblesort([4,3,5,1,2])"
   ]
  }
 ],
 "metadata": {
  "kernelspec": {
   "display_name": "Python 3",
   "language": "python",
   "name": "python3"
  },
  "language_info": {
   "codemirror_mode": {
    "name": "ipython",
    "version": 3
   },
   "file_extension": ".py",
   "mimetype": "text/x-python",
   "name": "python",
   "nbconvert_exporter": "python",
   "pygments_lexer": "ipython3",
   "version": "3.8.8"
  }
 },
 "nbformat": 4,
 "nbformat_minor": 5
}
