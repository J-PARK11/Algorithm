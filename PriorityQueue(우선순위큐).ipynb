{
 "cells": [
  {
   "cell_type": "markdown",
   "id": "30f51734",
   "metadata": {},
   "source": [
    "## PriorityQueue(우선순위큐)"
   ]
  },
  {
   "cell_type": "code",
   "execution_count": 1,
   "id": "c45aab23",
   "metadata": {},
   "outputs": [],
   "source": [
    "from queue import PriorityQueue"
   ]
  },
  {
   "cell_type": "code",
   "execution_count": 3,
   "id": "5a036238",
   "metadata": {},
   "outputs": [
    {
     "name": "stdout",
     "output_type": "stream",
     "text": [
      "1\n",
      "3\n",
      "4\n",
      "7\n"
     ]
    }
   ],
   "source": [
    "que = PriorityQueue(maxsize=8)\n",
    "\n",
    "que.put(4)\n",
    "que.put(1)\n",
    "que.put(7)\n",
    "que.put(3)\n",
    "\n",
    "print(que.get())\n",
    "print(que.get())\n",
    "print(que.get())\n",
    "print(que.get())"
   ]
  },
  {
   "cell_type": "code",
   "execution_count": 4,
   "id": "9de48910",
   "metadata": {},
   "outputs": [
    {
     "name": "stdout",
     "output_type": "stream",
     "text": [
      "(1, 'banana')\n",
      "(2, 'cherry')\n",
      "(3, 'apple')\n"
     ]
    }
   ],
   "source": [
    "que = PriorityQueue()\n",
    "\n",
    "que.put((3,'apple'))\n",
    "que.put((1,'banana'))\n",
    "que.put((2,'cherry'))\n",
    "\n",
    "print(que.get())\n",
    "print(que.get())\n",
    "print(que.get())"
   ]
  },
  {
   "cell_type": "code",
   "execution_count": null,
   "id": "e7564178",
   "metadata": {},
   "outputs": [],
   "source": []
  },
  {
   "cell_type": "code",
   "execution_count": null,
   "id": "5209822f",
   "metadata": {},
   "outputs": [],
   "source": []
  },
  {
   "cell_type": "code",
   "execution_count": null,
   "id": "4b764933",
   "metadata": {},
   "outputs": [],
   "source": []
  },
  {
   "cell_type": "code",
   "execution_count": null,
   "id": "1c560ee4",
   "metadata": {},
   "outputs": [],
   "source": []
  },
  {
   "cell_type": "code",
   "execution_count": null,
   "id": "68ad09c5",
   "metadata": {},
   "outputs": [],
   "source": []
  }
 ],
 "metadata": {
  "kernelspec": {
   "display_name": "Python 3",
   "language": "python",
   "name": "python3"
  },
  "language_info": {
   "codemirror_mode": {
    "name": "ipython",
    "version": 3
   },
   "file_extension": ".py",
   "mimetype": "text/x-python",
   "name": "python",
   "nbconvert_exporter": "python",
   "pygments_lexer": "ipython3",
   "version": "3.8.8"
  }
 },
 "nbformat": 4,
 "nbformat_minor": 5
}
