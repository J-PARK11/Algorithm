{
 "cells": [
  {
   "cell_type": "markdown",
   "id": "30af9b05",
   "metadata": {},
   "source": [
    "## Enumeration(이넘)"
   ]
  },
  {
   "cell_type": "markdown",
   "id": "2bd1c98e",
   "metadata": {},
   "source": [
    "### 1.클래스 타입 정의"
   ]
  },
  {
   "cell_type": "code",
   "execution_count": 8,
   "id": "e332b0d8",
   "metadata": {},
   "outputs": [
    {
     "name": "stdout",
     "output_type": "stream",
     "text": [
      "<enum 'Skill'>\n",
      "Skill.HTML\n",
      "HTML\n",
      "1 \n",
      "\n",
      "Skill.HTML\n",
      "Skill.CSS\n",
      "Skill.JS\n"
     ]
    }
   ],
   "source": [
    "from enum import Enum\n",
    "\n",
    "class Skill(Enum):\n",
    "    HTML = 1\n",
    "    CSS = 2\n",
    "    JS = 3\n",
    "\n",
    "print(Skill)\n",
    "print(Skill.HTML)\n",
    "print(Skill.HTML.name)\n",
    "print(Skill.HTML.value,'\\n')\n",
    "for skill in Skill:\n",
    "    print(skill)"
   ]
  },
  {
   "cell_type": "markdown",
   "id": "d621c14f",
   "metadata": {},
   "source": [
    "### 2.값 자동 할당"
   ]
  },
  {
   "cell_type": "code",
   "execution_count": 10,
   "id": "2a7e4f15",
   "metadata": {},
   "outputs": [
    {
     "data": {
      "text/plain": [
       "[<Skill.HTML: 1>, <Skill.CSS: 2>, <Skill.JS: 3>]"
      ]
     },
     "execution_count": 10,
     "metadata": {},
     "output_type": "execute_result"
    }
   ],
   "source": [
    "from enum import Enum, auto\n",
    "\n",
    "class Skill(Enum):\n",
    "    HTML = auto()\n",
    "    CSS = auto()\n",
    "    JS = auto()\n",
    "\n",
    "list(Skill)"
   ]
  },
  {
   "cell_type": "code",
   "execution_count": 12,
   "id": "cecab061",
   "metadata": {},
   "outputs": [
    {
     "data": {
      "text/plain": [
       "[<Skill.HTML: 'HTML'>, <Skill.CSS: 'CSS'>, <Skill.JS: 'JS'>]"
      ]
     },
     "execution_count": 12,
     "metadata": {},
     "output_type": "execute_result"
    }
   ],
   "source": [
    "class Skill(Enum):\n",
    "    def _generate_next_value_(name, start, count, last_values):\n",
    "        return name\n",
    "    \n",
    "    HTML = auto()\n",
    "    CSS = auto()\n",
    "    JS = auto()\n",
    "\n",
    "list(Skill)"
   ]
  },
  {
   "cell_type": "markdown",
   "id": "75f1474f",
   "metadata": {},
   "source": [
    "### 3. enum mixin"
   ]
  },
  {
   "cell_type": "code",
   "execution_count": 14,
   "id": "62790d02",
   "metadata": {},
   "outputs": [
    {
     "name": "stdout",
     "output_type": "stream",
     "text": [
      "True\n",
      "True\n"
     ]
    }
   ],
   "source": [
    "class StrEnum(str,Enum):\n",
    "    def _generate_next_value_(name, start, count, last_values):\n",
    "        return name\n",
    "    \n",
    "    def __repr__(self):\n",
    "        return self.name\n",
    "    \n",
    "    def __str__(self):\n",
    "        return self.name\n",
    "\n",
    "class Skill(StrEnum):\n",
    "    HTML = auto()\n",
    "    CSS = auto()\n",
    "    JS = auto()\n",
    "\n",
    "print(Skill.HTML == 'HTML')\n",
    "print(isinstance(Skill.HTML,str))"
   ]
  },
  {
   "cell_type": "markdown",
   "id": "2838a41d",
   "metadata": {},
   "source": [
    "### 4. Enum 확장"
   ]
  },
  {
   "cell_type": "code",
   "execution_count": 17,
   "id": "7bf80ea5",
   "metadata": {},
   "outputs": [
    {
     "name": "stdout",
     "output_type": "stream",
     "text": [
      "('HTML', 'Hypertext Markup Language')\n",
      "HTML\n",
      "Hypertext Markup Language\n",
      "Skill.JS\n",
      "css\n"
     ]
    }
   ],
   "source": [
    "class Skill(Enum):\n",
    "    \n",
    "    HTML = (\"HTML\", \"Hypertext Markup Language\")\n",
    "    CSS = (\"CSS\", \"Cascading Style Sheets\")\n",
    "    JS = (\"JS\", \"JavaScript\")\n",
    "    \n",
    "    def __init__(self,title,description):\n",
    "        self.title = title\n",
    "        self.description = description\n",
    "    \n",
    "    @classmethod\n",
    "    def get_most_popular(cls):\n",
    "        return cls.JS\n",
    "    \n",
    "    def lower_title(self):\n",
    "        return self.title.lower()\n",
    "\n",
    "print(Skill.HTML.value)\n",
    "print(Skill.HTML.title)\n",
    "print(Skill.HTML.description)\n",
    "print(Skill.get_most_popular())\n",
    "print(Skill.CSS.lower_title())"
   ]
  }
 ],
 "metadata": {
  "kernelspec": {
   "display_name": "Python 3",
   "language": "python",
   "name": "python3"
  },
  "language_info": {
   "codemirror_mode": {
    "name": "ipython",
    "version": 3
   },
   "file_extension": ".py",
   "mimetype": "text/x-python",
   "name": "python",
   "nbconvert_exporter": "python",
   "pygments_lexer": "ipython3",
   "version": "3.8.8"
  }
 },
 "nbformat": 4,
 "nbformat_minor": 5
}
