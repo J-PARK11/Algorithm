{
 "cells": [
  {
   "cell_type": "markdown",
   "id": "e6edbd8c",
   "metadata": {},
   "source": [
    "# Implementation"
   ]
  },
  {
   "cell_type": "markdown",
   "id": "41f8b8de",
   "metadata": {},
   "source": [
    "## Case : 상하좌우"
   ]
  },
  {
   "cell_type": "code",
   "execution_count": 8,
   "id": "3b22e9ce",
   "metadata": {},
   "outputs": [
    {
     "name": "stdout",
     "output_type": "stream",
     "text": [
      "5\n",
      "R R R U D D\n",
      "3 4\n"
     ]
    }
   ],
   "source": [
    "N=int(input())\n",
    "plan=list(input().split())\n",
    "\n",
    "dx = [0,0,-1,1]\n",
    "dy = [-1,1,-0,0]\n",
    "dic = {'L':0,'R':1,'U':2,'D':3}\n",
    "\n",
    "x,y = 1,1\n",
    "for cmd in plan:\n",
    "    idx = dic[cmd]\n",
    "    n_x = x+dx[idx]\n",
    "    n_y = y+dy[idx]\n",
    "    if n_x<1 or n_x>N or n_y<1 or n_y>N:\n",
    "        continue\n",
    "    x = n_x\n",
    "    y = n_y\n",
    "\n",
    "print(x,y)"
   ]
  },
  {
   "cell_type": "markdown",
   "id": "63693bcf",
   "metadata": {},
   "source": [
    "## Case : 시각"
   ]
  },
  {
   "cell_type": "code",
   "execution_count": 15,
   "id": "b8d1791e",
   "metadata": {},
   "outputs": [
    {
     "name": "stdout",
     "output_type": "stream",
     "text": [
      "5\n",
      "11475\n"
     ]
    }
   ],
   "source": [
    "N=int(input())\n",
    "cnt=0\n",
    "for i in range(N+1):\n",
    "    for j in range(60):\n",
    "        for k in range(60):\n",
    "            num = str(i)+str(j)+str(k)\n",
    "            if '3' in num:\n",
    "                cnt+=1\n",
    "print(cnt)"
   ]
  },
  {
   "cell_type": "markdown",
   "id": "07f9d982",
   "metadata": {},
   "source": [
    "## 실전 문제 : 왕실의 나이트"
   ]
  },
  {
   "cell_type": "code",
   "execution_count": 27,
   "id": "0fb566e6",
   "metadata": {},
   "outputs": [
    {
     "name": "stdout",
     "output_type": "stream",
     "text": [
      "a1\n",
      "2\n"
     ]
    }
   ],
   "source": [
    "# 입력\n",
    "cmd=input()\n",
    "\n",
    "# 8가지 이동 방법 정의\n",
    "dx=[2,2,-2,-2,1,1,-1,-1]\n",
    "dy=[1,-1,1,-1,2,-2,2,-2]\n",
    "\n",
    "# 현재 나이트의 위치 설정\n",
    "dic=['a','b','c','d','e','f','g','h']\n",
    "x=int(cmd[1])\n",
    "y=dic.index(cmd[0])+1\n",
    "\n",
    "# 8가지 방향에 대해 이동 가능한지 확인\n",
    "cnt=0\n",
    "for i in range(8):\n",
    "    n_x = x+dx[i]\n",
    "    n_y = y+dy[i]\n",
    "    if n_x<1 or n_x>8 or n_y<1 or n_y>8:\n",
    "        continue\n",
    "    cnt+=1\n",
    "\n",
    "# 출력\n",
    "print(cnt)"
   ]
  },
  {
   "cell_type": "markdown",
   "id": "23ae4092",
   "metadata": {},
   "source": [
    "## 실전 문제 : 게임 개발"
   ]
  },
  {
   "cell_type": "code",
   "execution_count": 56,
   "id": "288acd18",
   "metadata": {},
   "outputs": [
    {
     "name": "stdout",
     "output_type": "stream",
     "text": [
      "4 4\n",
      "1 1 0\n",
      "1 1 1 1\n",
      "1 0 0 1\n",
      "1 1 0 1\n",
      "1 1 1 1\n",
      "3\n"
     ]
    }
   ],
   "source": [
    "# 격자와 좌표 및 방향 정보 입력\n",
    "N,M = map(int,input().split())\n",
    "x,y,d = map(int,input().split())\n",
    "\n",
    "# 육지와 바다 매트릭스 입력\n",
    "array=[]\n",
    "for i in range(N):\n",
    "    row = list(map(int,input().split()))\n",
    "    array.append(row)\n",
    "\n",
    "# 네 가지 방향 정보 설정 (북,동,남,서)\n",
    "dx=[-1,0,1,0]\n",
    "dy=[0,1,0,-1]\n",
    "\n",
    "# 시뮬레이션 루프\n",
    "cnt=1\n",
    "array[x][y]=-1\n",
    "\n",
    "while True:\n",
    "    false_count=0\n",
    "    # 네 가지 방향을 차례로 확인\n",
    "    for i in range(4):\n",
    "        d += 1\n",
    "        if d>3: d = d%4\n",
    "        nx = x + dx[d]\n",
    "        ny = y + dy[d]\n",
    "        \n",
    "        # 회전한 후 정면에 가보지 않은 칸이 있을 경우\n",
    "        if array[nx][ny] == 0:\n",
    "            array[nx][ny] = -1\n",
    "            x = nx\n",
    "            y = ny\n",
    "            cnt+=1\n",
    "            break\n",
    "        \n",
    "        # 회전한 후 정면으로 갈 수 없는 경우\n",
    "        false_count+=1\n",
    "    \n",
    "    # 네 방향 모두 갈 수 없는 경우\n",
    "    if false_count == 4:\n",
    "        x = x - dx[d]\n",
    "        y = y - dy[d]\n",
    "        \n",
    "        # 뒤로 가다가 바다로 막혀있는 경우\n",
    "        if array[x][y] == 1:\n",
    "            break\n",
    "# 출력\n",
    "print(cnt)"
   ]
  }
 ],
 "metadata": {
  "kernelspec": {
   "display_name": "Python 3",
   "language": "python",
   "name": "python3"
  },
  "language_info": {
   "codemirror_mode": {
    "name": "ipython",
    "version": 3
   },
   "file_extension": ".py",
   "mimetype": "text/x-python",
   "name": "python",
   "nbconvert_exporter": "python",
   "pygments_lexer": "ipython3",
   "version": "3.8.8"
  }
 },
 "nbformat": 4,
 "nbformat_minor": 5
}
