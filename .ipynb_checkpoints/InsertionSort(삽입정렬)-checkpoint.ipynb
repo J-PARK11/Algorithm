{
 "cells": [
  {
   "cell_type": "markdown",
   "id": "f4552d7f",
   "metadata": {},
   "source": [
    "## InsertionSort(삽입정렬)\n",
    "시간 복잡도 : O(N^2)   \n",
    "공간 복잡도 : O(1)"
   ]
  },
  {
   "cell_type": "code",
   "execution_count": 1,
   "id": "e1524307",
   "metadata": {},
   "outputs": [
    {
     "data": {
      "text/plain": [
       "[1, 2, 3, 4, 5]"
      ]
     },
     "execution_count": 1,
     "metadata": {},
     "output_type": "execute_result"
    }
   ],
   "source": [
    "def insertionsort(arr):\n",
    "    for end in range(1,len(arr)):\n",
    "        for i in range(end,0,-1):\n",
    "            if arr[i-1] > arr[i]:\n",
    "                arr[i-1], arr[i] = arr[i], arr[i-1]\n",
    "    return arr\n",
    "insertionsort([2,1,5,4,3])"
   ]
  },
  {
   "cell_type": "markdown",
   "id": "5bee5aa3",
   "metadata": {},
   "source": [
    "### 최적화"
   ]
  },
  {
   "cell_type": "code",
   "execution_count": 3,
   "id": "08fc311e",
   "metadata": {},
   "outputs": [
    {
     "data": {
      "text/plain": [
       "[1, 2, 3, 4, 5]"
      ]
     },
     "execution_count": 3,
     "metadata": {},
     "output_type": "execute_result"
    }
   ],
   "source": [
    "def Insertionsort(arr):\n",
    "    for end in range(1, len(arr)):\n",
    "        i = end\n",
    "        while i > 0 and arr[i-1] > arr[i] :\n",
    "            arr[i-1], arr[i] = arr[i], arr[i-1]\n",
    "            i -= 1\n",
    "    return arr\n",
    "Insertionsort([2,1,5,4,3])"
   ]
  },
  {
   "cell_type": "markdown",
   "id": "90f02955",
   "metadata": {},
   "source": [
    "### 추가 최적화"
   ]
  },
  {
   "cell_type": "code",
   "execution_count": 4,
   "id": "903f0f85",
   "metadata": {},
   "outputs": [
    {
     "data": {
      "text/plain": [
       "[1, 2, 4, 3, 5]"
      ]
     },
     "execution_count": 4,
     "metadata": {},
     "output_type": "execute_result"
    }
   ],
   "source": [
    "def InsertionSort(arr):\n",
    "    for end in range(1,len(arr)):\n",
    "        to_insert = arr[end]\n",
    "        i = end\n",
    "        while i > 0 and arr[i-1] > arr[i]:\n",
    "            arr[i] = arr[i-1]\n",
    "            i-=1\n",
    "        arr[i] = to_insert\n",
    "    return arr\n",
    "InsertionSort([2,1,5,4,3])"
   ]
  }
 ],
 "metadata": {
  "kernelspec": {
   "display_name": "Python 3",
   "language": "python",
   "name": "python3"
  },
  "language_info": {
   "codemirror_mode": {
    "name": "ipython",
    "version": 3
   },
   "file_extension": ".py",
   "mimetype": "text/x-python",
   "name": "python",
   "nbconvert_exporter": "python",
   "pygments_lexer": "ipython3",
   "version": "3.8.8"
  }
 },
 "nbformat": 4,
 "nbformat_minor": 5
}
