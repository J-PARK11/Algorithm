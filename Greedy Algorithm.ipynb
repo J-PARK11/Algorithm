{
 "cells": [
  {
   "cell_type": "markdown",
   "id": "b56ddca7",
   "metadata": {},
   "source": [
    "# Greedy Algorithm"
   ]
  },
  {
   "cell_type": "markdown",
   "id": "47c0b1bd",
   "metadata": {},
   "source": [
    "## Case : 거스름돈"
   ]
  },
  {
   "cell_type": "code",
   "execution_count": 4,
   "id": "58f1cc48",
   "metadata": {},
   "outputs": [
    {
     "name": "stdout",
     "output_type": "stream",
     "text": [
      "1260\n"
     ]
    },
    {
     "data": {
      "text/plain": [
       "6"
      ]
     },
     "execution_count": 4,
     "metadata": {},
     "output_type": "execute_result"
    }
   ],
   "source": [
    "N = int(input())\n",
    "\n",
    "def change(N):\n",
    "    coins = [500, 100, 50, 10]\n",
    "    result = 0\n",
    "    for coin in coins:\n",
    "        share = N // coin\n",
    "        left = N % coin\n",
    "        result += share\n",
    "        N = left\n",
    "    return result\n",
    "        \n",
    "change(N)"
   ]
  },
  {
   "cell_type": "markdown",
   "id": "d8432aa2",
   "metadata": {},
   "source": [
    "## 실전 문제 1 :  큰 수의 법칙"
   ]
  },
  {
   "cell_type": "code",
   "execution_count": 4,
   "id": "d268d9e5",
   "metadata": {},
   "outputs": [
    {
     "name": "stdout",
     "output_type": "stream",
     "text": [
      "5 6 3\n",
      "2 4 5 4 6\n"
     ]
    },
    {
     "data": {
      "text/plain": [
       "35"
      ]
     },
     "execution_count": 4,
     "metadata": {},
     "output_type": "execute_result"
    }
   ],
   "source": [
    "# 입력 \n",
    "N, M, K = map(int,input().split())\n",
    "array = list(map(int,input().split()))\n",
    "\n",
    "# 배열을 역순으로 정렬\n",
    "array.sort(reverse=True)\n",
    "\n",
    "# 큰 수의 법칙 함수 정의\n",
    "def big_number_rules(N,M,K):\n",
    "    \n",
    "    # 가장 큰 숫자와 두 번째로 큰 숫자 저장\n",
    "    seed1 = array[0]\n",
    "    seed2 = array[1]\n",
    "    \n",
    "    # Case1 : 시드1,2가 같을 경우 같은 수만 출력\n",
    "    if seed1 == seed2 :\n",
    "        return seed1*M\n",
    "    \n",
    "    # Case2 : 시드1,2가 다를 경우 몫과 나머지를 구해서 해결\n",
    "    else:\n",
    "        bundle = K+1\n",
    "        value = seed1*K + seed2\n",
    "        share = M // bundle\n",
    "        left = M % bundle\n",
    "        return value*share + seed1*left\n",
    "\n",
    "big_number_rules(N,M,K)"
   ]
  },
  {
   "cell_type": "markdown",
   "id": "b96834a0",
   "metadata": {},
   "source": [
    "## 실전 문제 2 :  숫자 카드 게임"
   ]
  },
  {
   "cell_type": "code",
   "execution_count": 10,
   "id": "e5495bc6",
   "metadata": {},
   "outputs": [
    {
     "name": "stdout",
     "output_type": "stream",
     "text": [
      "2 4\n",
      "7 3 1 8\n",
      "3 3 3 4\n",
      "3\n"
     ]
    }
   ],
   "source": [
    "# 입력\n",
    "N,M = map(int,input().split())\n",
    "\n",
    "# 행 마다 최소값을 list에 할당\n",
    "result=[]\n",
    "for _ in range(N):\n",
    "    row = list(map(int,input().split()))\n",
    "    row_min = min(row)\n",
    "    result.append(row_min)\n",
    "    \n",
    "# 행 마다 최소값을 담은 list에서 최대값 출력\n",
    "print(max(result))"
   ]
  },
  {
   "attachments": {},
   "cell_type": "markdown",
   "id": "2ed8d4be",
   "metadata": {},
   "source": [
    "## 실전 문제 3 : 1이 될 때까지"
   ]
  },
  {
   "cell_type": "code",
   "execution_count": 14,
   "id": "223bd5d6",
   "metadata": {},
   "outputs": [
    {
     "name": "stdout",
     "output_type": "stream",
     "text": [
      "25 5\n",
      "2\n"
     ]
    }
   ],
   "source": [
    "# 입력\n",
    "N, K = map(int,input().split())\n",
    "\n",
    "count = 0\n",
    "while True:\n",
    "    # N이 K로 나눠지면 나누고, 그렇지 않을 경우에는 그 차이를 카운팅함\n",
    "    target = (N//K )*K\n",
    "    count += (N-target)\n",
    "    N = target\n",
    "    \n",
    "    # N이 K보다 작아지면 while문을 탈출\n",
    "    if N < K:\n",
    "        break\n",
    "    \n",
    "    # N이 K보다 크면 계속해서 진행\n",
    "    count+=1\n",
    "    N //= K\n",
    "\n",
    "# 나머지에서 1이 될 때까지의 차이를 카운팅\n",
    "count += (N-1)\n",
    "print(count)"
   ]
  }
 ],
 "metadata": {
  "kernelspec": {
   "display_name": "Python 3",
   "language": "python",
   "name": "python3"
  },
  "language_info": {
   "codemirror_mode": {
    "name": "ipython",
    "version": 3
   },
   "file_extension": ".py",
   "mimetype": "text/x-python",
   "name": "python",
   "nbconvert_exporter": "python",
   "pygments_lexer": "ipython3",
   "version": "3.8.8"
  }
 },
 "nbformat": 4,
 "nbformat_minor": 5
}
