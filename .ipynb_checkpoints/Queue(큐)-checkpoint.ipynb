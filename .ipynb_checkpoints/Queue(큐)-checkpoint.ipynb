{
 "cells": [
  {
   "cell_type": "markdown",
   "id": "7ca04fef",
   "metadata": {},
   "source": [
    "## Queue(큐)"
   ]
  },
  {
   "cell_type": "markdown",
   "id": "d7eba1da",
   "metadata": {},
   "source": [
    "### 1. deque(double-ended-queue)"
   ]
  },
  {
   "cell_type": "code",
   "execution_count": 2,
   "id": "99a4cd84",
   "metadata": {},
   "outputs": [
    {
     "name": "stdout",
     "output_type": "stream",
     "text": [
      "4\n",
      "5\n",
      "6\n",
      "deque([7, 8])\n"
     ]
    }
   ],
   "source": [
    "from collections import deque\n",
    "\n",
    "queue = deque([4,5,6])\n",
    "queue.append(7)\n",
    "queue.append(8)\n",
    "\n",
    "print(queue.popleft())\n",
    "print(queue.popleft())\n",
    "print(queue.popleft())\n",
    "print(queue)"
   ]
  },
  {
   "cell_type": "code",
   "execution_count": 4,
   "id": "b431cb66",
   "metadata": {},
   "outputs": [
    {
     "name": "stdout",
     "output_type": "stream",
     "text": [
      "6\n",
      "5\n",
      "4\n",
      "deque([2, 3])\n"
     ]
    }
   ],
   "source": [
    "queue = deque([4,5,6])\n",
    "queue.appendleft(3)\n",
    "queue.appendleft(2)\n",
    "\n",
    "print(queue.pop())\n",
    "print(queue.pop())\n",
    "print(queue.pop())\n",
    "print(queue)"
   ]
  },
  {
   "cell_type": "markdown",
   "id": "77292e74",
   "metadata": {},
   "source": [
    "### 2. Queue"
   ]
  },
  {
   "cell_type": "code",
   "execution_count": 5,
   "id": "f1c6cde5",
   "metadata": {},
   "outputs": [
    {
     "name": "stdout",
     "output_type": "stream",
     "text": [
      "4\n",
      "5\n",
      "6\n",
      "<queue.Queue object at 0x0000015BAA55B1C0>\n"
     ]
    }
   ],
   "source": [
    "from queue import Queue\n",
    "\n",
    "que = Queue()\n",
    "\n",
    "que.put(4)\n",
    "que.put(5)\n",
    "que.put(6)\n",
    "\n",
    "print(que.get())\n",
    "print(que.get())\n",
    "print(que.get())\n",
    "print(que)"
   ]
  }
 ],
 "metadata": {
  "kernelspec": {
   "display_name": "Python 3",
   "language": "python",
   "name": "python3"
  },
  "language_info": {
   "codemirror_mode": {
    "name": "ipython",
    "version": 3
   },
   "file_extension": ".py",
   "mimetype": "text/x-python",
   "name": "python",
   "nbconvert_exporter": "python",
   "pygments_lexer": "ipython3",
   "version": "3.8.8"
  }
 },
 "nbformat": 4,
 "nbformat_minor": 5
}
