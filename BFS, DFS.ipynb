{
 "cells": [
  {
   "cell_type": "markdown",
   "id": "a35f7d15",
   "metadata": {},
   "source": [
    "# BFS, DFS"
   ]
  },
  {
   "cell_type": "markdown",
   "id": "50db35a7",
   "metadata": {},
   "source": [
    "## 재귀함수의 종료조건"
   ]
  },
  {
   "cell_type": "code",
   "execution_count": 2,
   "id": "35c393a9",
   "metadata": {
    "collapsed": true
   },
   "outputs": [
    {
     "name": "stdout",
     "output_type": "stream",
     "text": [
      "1 번째 함수가 2 번째 함수를 호출합니다.\n",
      "2 번째 함수가 3 번째 함수를 호출합니다.\n",
      "3 번째 함수가 4 번째 함수를 호출합니다.\n",
      "4 번째 함수가 5 번째 함수를 호출합니다.\n",
      "5 번째 함수가 6 번째 함수를 호출합니다.\n",
      "6 번째 함수가 7 번째 함수를 호출합니다.\n",
      "7 번째 함수가 8 번째 함수를 호출합니다.\n",
      "8 번째 함수가 9 번째 함수를 호출합니다.\n",
      "9 번째 함수가 10 번째 함수를 호출합니다.\n",
      "10 번째 함수가 11 번째 함수를 호출합니다.\n",
      "11 번째 함수가 12 번째 함수를 호출합니다.\n",
      "12 번째 함수가 13 번째 함수를 호출합니다.\n",
      "13 번째 함수가 14 번째 함수를 호출합니다.\n",
      "14 번째 함수가 15 번째 함수를 호출합니다.\n",
      "15 번째 함수가 16 번째 함수를 호출합니다.\n",
      "16 번째 함수가 17 번째 함수를 호출합니다.\n",
      "17 번째 함수가 18 번째 함수를 호출합니다.\n",
      "18 번째 함수가 19 번째 함수를 호출합니다.\n",
      "19 번째 함수가 20 번째 함수를 호출합니다.\n",
      "20 번째 함수가 21 번째 함수를 호출합니다.\n",
      "21 번째 함수가 22 번째 함수를 호출합니다.\n",
      "22 번째 함수가 23 번째 함수를 호출합니다.\n",
      "23 번째 함수가 24 번째 함수를 호출합니다.\n",
      "24 번째 함수가 25 번째 함수를 호출합니다.\n",
      "25 번째 함수가 26 번째 함수를 호출합니다.\n",
      "26 번째 함수가 27 번째 함수를 호출합니다.\n",
      "27 번째 함수가 28 번째 함수를 호출합니다.\n",
      "28 번째 함수가 29 번째 함수를 호출합니다.\n",
      "29 번째 함수가 30 번째 함수를 호출합니다.\n",
      "30 번째 함수가 31 번째 함수를 호출합니다.\n",
      "31 번째 함수가 32 번째 함수를 호출합니다.\n",
      "32 번째 함수가 33 번째 함수를 호출합니다.\n",
      "33 번째 함수가 34 번째 함수를 호출합니다.\n",
      "34 번째 함수가 35 번째 함수를 호출합니다.\n",
      "35 번째 함수가 36 번째 함수를 호출합니다.\n",
      "36 번째 함수가 37 번째 함수를 호출합니다.\n",
      "37 번째 함수가 38 번째 함수를 호출합니다.\n",
      "38 번째 함수가 39 번째 함수를 호출합니다.\n",
      "39 번째 함수가 40 번째 함수를 호출합니다.\n",
      "40 번째 함수가 41 번째 함수를 호출합니다.\n",
      "41 번째 함수가 42 번째 함수를 호출합니다.\n",
      "42 번째 함수가 43 번째 함수를 호출합니다.\n",
      "43 번째 함수가 44 번째 함수를 호출합니다.\n",
      "44 번째 함수가 45 번째 함수를 호출합니다.\n",
      "45 번째 함수가 46 번째 함수를 호출합니다.\n",
      "46 번째 함수가 47 번째 함수를 호출합니다.\n",
      "47 번째 함수가 48 번째 함수를 호출합니다.\n",
      "48 번째 함수가 49 번째 함수를 호출합니다.\n",
      "49 번째 함수가 50 번째 함수를 호출합니다.\n",
      "50 번째 함수가 51 번째 함수를 호출합니다.\n",
      "51 번째 함수가 52 번째 함수를 호출합니다.\n",
      "52 번째 함수가 53 번째 함수를 호출합니다.\n",
      "53 번째 함수가 54 번째 함수를 호출합니다.\n",
      "54 번째 함수가 55 번째 함수를 호출합니다.\n",
      "55 번째 함수가 56 번째 함수를 호출합니다.\n",
      "56 번째 함수가 57 번째 함수를 호출합니다.\n",
      "57 번째 함수가 58 번째 함수를 호출합니다.\n",
      "58 번째 함수가 59 번째 함수를 호출합니다.\n",
      "59 번째 함수가 60 번째 함수를 호출합니다.\n",
      "60 번째 함수가 61 번째 함수를 호출합니다.\n",
      "61 번째 함수가 62 번째 함수를 호출합니다.\n",
      "62 번째 함수가 63 번째 함수를 호출합니다.\n",
      "63 번째 함수가 64 번째 함수를 호출합니다.\n",
      "64 번째 함수가 65 번째 함수를 호출합니다.\n",
      "65 번째 함수가 66 번째 함수를 호출합니다.\n",
      "66 번째 함수가 67 번째 함수를 호출합니다.\n",
      "67 번째 함수가 68 번째 함수를 호출합니다.\n",
      "68 번째 함수가 69 번째 함수를 호출합니다.\n",
      "69 번째 함수가 70 번째 함수를 호출합니다.\n",
      "70 번째 함수가 71 번째 함수를 호출합니다.\n",
      "71 번째 함수가 72 번째 함수를 호출합니다.\n",
      "72 번째 함수가 73 번째 함수를 호출합니다.\n",
      "73 번째 함수가 74 번째 함수를 호출합니다.\n",
      "74 번째 함수가 75 번째 함수를 호출합니다.\n",
      "75 번째 함수가 76 번째 함수를 호출합니다.\n",
      "76 번째 함수가 77 번째 함수를 호출합니다.\n",
      "77 번째 함수가 78 번째 함수를 호출합니다.\n",
      "78 번째 함수가 79 번째 함수를 호출합니다.\n",
      "79 번째 함수가 80 번째 함수를 호출합니다.\n",
      "80 번째 함수가 81 번째 함수를 호출합니다.\n",
      "81 번째 함수가 82 번째 함수를 호출합니다.\n",
      "82 번째 함수가 83 번째 함수를 호출합니다.\n",
      "83 번째 함수가 84 번째 함수를 호출합니다.\n",
      "84 번째 함수가 85 번째 함수를 호출합니다.\n",
      "85 번째 함수가 86 번째 함수를 호출합니다.\n",
      "86 번째 함수가 87 번째 함수를 호출합니다.\n",
      "87 번째 함수가 88 번째 함수를 호출합니다.\n",
      "88 번째 함수가 89 번째 함수를 호출합니다.\n",
      "89 번째 함수가 90 번째 함수를 호출합니다.\n",
      "90 번째 함수가 91 번째 함수를 호출합니다.\n",
      "91 번째 함수가 92 번째 함수를 호출합니다.\n",
      "92 번째 함수가 93 번째 함수를 호출합니다.\n",
      "93 번째 함수가 94 번째 함수를 호출합니다.\n",
      "94 번째 함수가 95 번째 함수를 호출합니다.\n",
      "95 번째 함수가 96 번째 함수를 호출합니다.\n",
      "96 번째 함수가 97 번째 함수를 호출합니다.\n",
      "97 번째 함수가 98 번째 함수를 호출합니다.\n",
      "98 번째 함수가 99 번째 함수를 호출합니다.\n",
      "99 번째 함수가 100 번째 함수를 호출합니다.\n",
      "100 번째 함수 종료\n"
     ]
    }
   ],
   "source": [
    "def recursive_function(i):\n",
    "    if i == 100:\n",
    "        print(i,'번째 함수 종료')\n",
    "    else:\n",
    "        print(i,'번째 함수가',i+1,'번째 함수를 호출합니다.')\n",
    "        recursive_function(i+1)\n",
    "recursive_function(1)"
   ]
  },
  {
   "cell_type": "markdown",
   "id": "cd3e731f",
   "metadata": {},
   "source": [
    "## 반복적 / 재귀적 팩토리얼"
   ]
  },
  {
   "cell_type": "code",
   "execution_count": 6,
   "id": "221b451f",
   "metadata": {},
   "outputs": [
    {
     "name": "stdout",
     "output_type": "stream",
     "text": [
      "iterative factorial : 120\n",
      "recursive factorial : 120\n"
     ]
    }
   ],
   "source": [
    "def iterative_factorial(n):\n",
    "    result = 1\n",
    "    for i in range(1,n+1):\n",
    "        result = result*i\n",
    "    return result\n",
    "\n",
    "def recursive_factorial(n):\n",
    "    if n <= 1: return 1\n",
    "    return n*recursive_factorial(n-1)\n",
    "\n",
    "\n",
    "print('iterative factorial :',iterative_factorial(5))\n",
    "print('recursive factorial :',recursive_factorial(5))"
   ]
  },
  {
   "cell_type": "markdown",
   "id": "7a491dbf",
   "metadata": {},
   "source": [
    "## Adjacency Matrix"
   ]
  },
  {
   "cell_type": "code",
   "execution_count": 1,
   "id": "b178e4b6",
   "metadata": {},
   "outputs": [
    {
     "data": {
      "text/plain": [
       "[[0, 7, 5], [7, 0, 99999999], [5, 99999999, 0]]"
      ]
     },
     "execution_count": 1,
     "metadata": {},
     "output_type": "execute_result"
    }
   ],
   "source": [
    "inf = 99999999\n",
    "adj_matrix = [[0,7,5],\n",
    "              [7,0,inf],\n",
    "              [5,inf,0]]\n",
    "adj_matrix"
   ]
  },
  {
   "cell_type": "markdown",
   "id": "aea11459",
   "metadata": {},
   "source": [
    "## Adjacency List"
   ]
  },
  {
   "cell_type": "code",
   "execution_count": 2,
   "id": "5f3906f5",
   "metadata": {},
   "outputs": [
    {
     "name": "stdout",
     "output_type": "stream",
     "text": [
      "[[[1, 7], [2, 5]], [[0, 7]], [[0, 5]]]\n"
     ]
    }
   ],
   "source": [
    "graph = [[] for _ in range(3)]\n",
    "\n",
    "graph[0].append([1,7])\n",
    "graph[0].append([2,5])\n",
    "\n",
    "graph[1].append([0,7])\n",
    "\n",
    "graph[2].append([0,5])\n",
    "\n",
    "print(graph)"
   ]
  },
  {
   "cell_type": "markdown",
   "id": "72bc852e",
   "metadata": {},
   "source": [
    "## DFS"
   ]
  },
  {
   "cell_type": "code",
   "execution_count": 6,
   "id": "d8a189db",
   "metadata": {},
   "outputs": [
    {
     "name": "stdout",
     "output_type": "stream",
     "text": [
      "1 2 7 6 8 3 4 5 "
     ]
    }
   ],
   "source": [
    "def DFS(graph,v,visited):\n",
    "    visited[v] = True\n",
    "    print(v, end=' ')\n",
    "    \n",
    "    for i in graph[v]:\n",
    "        if not visited[i]:\n",
    "            DFS(graph,i,visited)\n",
    "graph=[\n",
    "    [],\n",
    "    [2,3,8],\n",
    "    [1,7],\n",
    "    [1,4,5],\n",
    "    [3,5],\n",
    "    [3,4],\n",
    "    [7],\n",
    "    [2,6,8],\n",
    "    [1,7],\n",
    "]\n",
    "\n",
    "visited = [False]*9\n",
    "\n",
    "DFS(graph,1,visited)"
   ]
  },
  {
   "cell_type": "markdown",
   "id": "5d57dc62",
   "metadata": {},
   "source": [
    "## BFS"
   ]
  },
  {
   "cell_type": "code",
   "execution_count": 7,
   "id": "ddcdb86a",
   "metadata": {},
   "outputs": [
    {
     "name": "stdout",
     "output_type": "stream",
     "text": [
      "1 2 3 8 7 4 5 6 "
     ]
    }
   ],
   "source": [
    "from collections import deque\n",
    "\n",
    "def BFS(graph,start,visited):\n",
    "    queue = deque([start])\n",
    "    visited[start] = True\n",
    "    \n",
    "    while queue:\n",
    "        v = queue.popleft()\n",
    "        print(v,end=' ')\n",
    "        \n",
    "        for i in graph[v]:\n",
    "            if not visited[i]:\n",
    "                queue.append(i)\n",
    "                visited[i] = True\n",
    "graph=[\n",
    "    [],\n",
    "    [2,3,8],\n",
    "    [1,7],\n",
    "    [1,4,5],\n",
    "    [3,5],\n",
    "    [3,4],\n",
    "    [7],\n",
    "    [2,6,8],\n",
    "    [1,7],\n",
    "]\n",
    "\n",
    "visited = [False]*9\n",
    "\n",
    "BFS(graph,1,visited)"
   ]
  },
  {
   "cell_type": "markdown",
   "id": "cb2a8c49",
   "metadata": {},
   "source": [
    "## 실전 문제 : 음료수 얼려먹기"
   ]
  },
  {
   "cell_type": "code",
   "execution_count": 14,
   "id": "f4434b87",
   "metadata": {},
   "outputs": [
    {
     "name": "stdout",
     "output_type": "stream",
     "text": [
      "4 5\n",
      "00110\n",
      "00011\n",
      "11111\n",
      "00000\n",
      "3\n"
     ]
    }
   ],
   "source": [
    "N, M = map(int,input().split())\n",
    "graph=[]\n",
    "for i in range(N):\n",
    "    row = list(map(int,input()))\n",
    "    graph.append(row)\n",
    "    \n",
    "def dfs(x,y):\n",
    "    if x <= -1 or x>=N or y<=-1 or y>=M: return False\n",
    "    if graph[x][y] == 0:\n",
    "        graph[x][y] = 1\n",
    "        dfs(x-1,y)\n",
    "        dfs(x+1,y)\n",
    "        dfs(x,y-1)\n",
    "        dfs(x,y+1)\n",
    "        return True\n",
    "    return False\n",
    "    \n",
    "result = 0\n",
    "for i in range(N):\n",
    "    for j in range(M):\n",
    "        if dfs(i,j) == True:\n",
    "            result += 1\n",
    "print(result)"
   ]
  },
  {
   "cell_type": "markdown",
   "id": "57b3f0c5",
   "metadata": {},
   "source": [
    "## 실전 문제 : 미로 탈출"
   ]
  },
  {
   "cell_type": "code",
   "execution_count": 24,
   "id": "862ef8df",
   "metadata": {},
   "outputs": [
    {
     "name": "stdout",
     "output_type": "stream",
     "text": [
      "5 6\n",
      "101010\n",
      "111111\n",
      "000001\n",
      "111111\n",
      "111111\n",
      "10\n"
     ]
    }
   ],
   "source": [
    "from collections import deque\n",
    "\n",
    "N, M = map(int,input().split())\n",
    "graph=[]\n",
    "for i in range(N):\n",
    "    row = list(map(int,input()))\n",
    "    graph.append(row)\n",
    "\n",
    "dx = [0,0,-1,1]\n",
    "dy = [1,-1,0,0]\n",
    "        \n",
    "def BFS(x,y):\n",
    "    queue = deque()\n",
    "    queue.append((x,y))\n",
    "    \n",
    "    while queue:\n",
    "        x,y = queue.popleft()\n",
    "        for i in range(4):\n",
    "            nx = x + dx[i]\n",
    "            ny = y + dy[i]\n",
    "            \n",
    "            if nx < 0 or nx >= N or ny <0 or ny >=M:\n",
    "                continue\n",
    "            \n",
    "            if graph[nx][ny] == 0 :\n",
    "                continue\n",
    "            \n",
    "            if graph[nx][ny] == 1:\n",
    "                graph[nx][ny] = graph[x][y] + 1\n",
    "                queue.append((nx,ny))\n",
    "    return graph[N-1][M-1]\n",
    "\n",
    "print(BFS(0,0))"
   ]
  }
 ],
 "metadata": {
  "kernelspec": {
   "display_name": "Python 3",
   "language": "python",
   "name": "python3"
  },
  "language_info": {
   "codemirror_mode": {
    "name": "ipython",
    "version": 3
   },
   "file_extension": ".py",
   "mimetype": "text/x-python",
   "name": "python",
   "nbconvert_exporter": "python",
   "pygments_lexer": "ipython3",
   "version": "3.8.8"
  }
 },
 "nbformat": 4,
 "nbformat_minor": 5
}
