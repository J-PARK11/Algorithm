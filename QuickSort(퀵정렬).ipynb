{
 "cells": [
  {
   "cell_type": "markdown",
   "id": "449c2a31",
   "metadata": {},
   "source": [
    "## QuickSort(퀵정렬)\n",
    "시간복잡도 : O(nlogn) ~ O(n^2)   \n",
    "공간복잡도 : O(1) ~ O(nlogn)"
   ]
  },
  {
   "cell_type": "markdown",
   "id": "62bd09fa",
   "metadata": {},
   "source": [
    "### 1. Non-Inplace Sorting"
   ]
  },
  {
   "cell_type": "code",
   "execution_count": 1,
   "id": "2d2f0061",
   "metadata": {},
   "outputs": [
    {
     "data": {
      "text/plain": [
       "[1, 2, 3, 4, 5, 6, 7]"
      ]
     },
     "execution_count": 1,
     "metadata": {},
     "output_type": "execute_result"
    }
   ],
   "source": [
    "def quicksort(arr):\n",
    "    if len(arr) <= 1 : return arr\n",
    "    \n",
    "    pivot = arr[len(arr) // 2]\n",
    "    lessed_arr, equal_arr, greater_arr = [], [], []\n",
    "    \n",
    "    for num in arr:\n",
    "        if num < pivot : lessed_arr.append(num)\n",
    "        elif num > pivot : greater_arr.append(num)\n",
    "        else : equal_arr.append(num)\n",
    "    return quicksort(lessed_arr) + equal_arr + quicksort(greater_arr)\n",
    "\n",
    "quicksort([6,5,1,4,7,2,3])"
   ]
  },
  {
   "cell_type": "markdown",
   "id": "b7cafee4",
   "metadata": {},
   "source": [
    "### 2. Inplace Sorting"
   ]
  },
  {
   "cell_type": "code",
   "execution_count": 9,
   "id": "c7c34a92",
   "metadata": {},
   "outputs": [
    {
     "data": {
      "text/plain": [
       "[1, 2, 3, 4, 5, 6, 7]"
      ]
     },
     "execution_count": 9,
     "metadata": {},
     "output_type": "execute_result"
    }
   ],
   "source": [
    "def QuickSort(arr):\n",
    "    def sort(low, high):\n",
    "        if high <= low : return\n",
    "        mid = partition(low, high)\n",
    "        sort(low, mid-1)\n",
    "        sort(mid, high)\n",
    "        return arr\n",
    "    \n",
    "    def partition(low, high):\n",
    "        pivot = arr[(low+high)//2]\n",
    "        while low <= high:\n",
    "            while arr[low] < pivot : low += 1\n",
    "            while arr[high] > pivot : high -= 1\n",
    "            if low <= high :\n",
    "                arr[low], arr[high] = arr[high], arr[low]\n",
    "                low, high = low+1, high-1\n",
    "        return low\n",
    "    return sort(0, len(arr)-1)\n",
    "\n",
    "QuickSort([6,5,1,4,7,2,3])"
   ]
  }
 ],
 "metadata": {
  "kernelspec": {
   "display_name": "Python 3",
   "language": "python",
   "name": "python3"
  },
  "language_info": {
   "codemirror_mode": {
    "name": "ipython",
    "version": 3
   },
   "file_extension": ".py",
   "mimetype": "text/x-python",
   "name": "python",
   "nbconvert_exporter": "python",
   "pygments_lexer": "ipython3",
   "version": "3.8.8"
  }
 },
 "nbformat": 4,
 "nbformat_minor": 5
}
