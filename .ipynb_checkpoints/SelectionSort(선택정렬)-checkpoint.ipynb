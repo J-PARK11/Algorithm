{
 "cells": [
  {
   "cell_type": "markdown",
   "id": "9d1ee3da",
   "metadata": {},
   "source": [
    "## SelectionSort(선택정렬)\n",
    "시간복잡도 : O(N^2)   \n",
    "공간복잡도 : O(1)"
   ]
  },
  {
   "cell_type": "code",
   "execution_count": 4,
   "id": "ae9c2ff5",
   "metadata": {},
   "outputs": [
    {
     "data": {
      "text/plain": [
       "[1, 2, 3, 4, 5]"
      ]
     },
     "execution_count": 4,
     "metadata": {},
     "output_type": "execute_result"
    }
   ],
   "source": [
    "def selectionsort(arr):\n",
    "    for i in range(len(arr)-1):\n",
    "        min_idx = i\n",
    "        for j in range(i+1,len(arr)):\n",
    "            if arr[j] < arr[min_idx]:\n",
    "                min_idx = j\n",
    "        arr[i], arr[min_idx] = arr[min_idx], arr[i]\n",
    "    return arr\n",
    "\n",
    "selectionsort([3,5,4,1,2])"
   ]
  }
 ],
 "metadata": {
  "kernelspec": {
   "display_name": "Python 3",
   "language": "python",
   "name": "python3"
  },
  "language_info": {
   "codemirror_mode": {
    "name": "ipython",
    "version": 3
   },
   "file_extension": ".py",
   "mimetype": "text/x-python",
   "name": "python",
   "nbconvert_exporter": "python",
   "pygments_lexer": "ipython3",
   "version": "3.8.8"
  }
 },
 "nbformat": 4,
 "nbformat_minor": 5
}
