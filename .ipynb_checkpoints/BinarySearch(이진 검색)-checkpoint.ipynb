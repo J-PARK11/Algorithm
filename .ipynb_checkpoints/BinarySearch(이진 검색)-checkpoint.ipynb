{
 "cells": [
  {
   "cell_type": "markdown",
   "id": "e745a36f",
   "metadata": {},
   "source": [
    "## BinarySearch(이진 검색)"
   ]
  },
  {
   "cell_type": "markdown",
   "id": "ddc9794b",
   "metadata": {},
   "source": [
    "### 1. Recursive Binary Search"
   ]
  },
  {
   "cell_type": "code",
   "execution_count": 4,
   "id": "de056338",
   "metadata": {},
   "outputs": [
    {
     "data": {
      "text/plain": [
       "7"
      ]
     },
     "execution_count": 4,
     "metadata": {},
     "output_type": "execute_result"
    }
   ],
   "source": [
    "def recursive_binary_search(arr,target,low=None,high=None):\n",
    "    low, high = low or 0, high or len(arr)-1\n",
    "    if low > high : return -1\n",
    "    \n",
    "    mid = (low+high) // 2\n",
    "    if arr[mid] > target :\n",
    "        return recursive_binary_search(arr,target,low,mid)\n",
    "    elif arr[mid] < target :\n",
    "        return recursive_binary_search(arr,target,mid+1,high)\n",
    "    else:\n",
    "        return mid\n",
    "\n",
    "recursive_binary_search([i for i in range(10)],7)"
   ]
  },
  {
   "cell_type": "markdown",
   "id": "680c74ce",
   "metadata": {},
   "source": [
    "### 2. Iterative Binary Search"
   ]
  },
  {
   "cell_type": "code",
   "execution_count": 5,
   "id": "ea3a6f16",
   "metadata": {},
   "outputs": [
    {
     "data": {
      "text/plain": [
       "7"
      ]
     },
     "execution_count": 5,
     "metadata": {},
     "output_type": "execute_result"
    }
   ],
   "source": [
    "def iterative_binary_search(arr,target):\n",
    "    low, high = 0, len(arr)-1\n",
    "    while low <= high:\n",
    "        mid = (low+high) // 2\n",
    "        if arr[mid] > target:\n",
    "            high = mid - 1\n",
    "        elif arr[mid] < target:\n",
    "            low = mid + 1\n",
    "        else:\n",
    "            return mid\n",
    "    return -1\n",
    "\n",
    "iterative_binary_search([i for i in range(10)],7)"
   ]
  }
 ],
 "metadata": {
  "kernelspec": {
   "display_name": "Python 3",
   "language": "python",
   "name": "python3"
  },
  "language_info": {
   "codemirror_mode": {
    "name": "ipython",
    "version": 3
   },
   "file_extension": ".py",
   "mimetype": "text/x-python",
   "name": "python",
   "nbconvert_exporter": "python",
   "pygments_lexer": "ipython3",
   "version": "3.8.8"
  }
 },
 "nbformat": 4,
 "nbformat_minor": 5
}
