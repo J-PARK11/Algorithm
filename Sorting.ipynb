{
 "cells": [
  {
   "cell_type": "markdown",
   "id": "26d878e4",
   "metadata": {},
   "source": [
    "## Sorting"
   ]
  },
  {
   "cell_type": "markdown",
   "id": "78e19a68",
   "metadata": {},
   "source": [
    "## 선택 정렬(SelectionSort)"
   ]
  },
  {
   "cell_type": "code",
   "execution_count": 3,
   "id": "2e01fcb9",
   "metadata": {},
   "outputs": [
    {
     "data": {
      "text/plain": [
       "[0, 1, 2, 3, 4, 5, 6, 7, 8, 9]"
      ]
     },
     "execution_count": 3,
     "metadata": {},
     "output_type": "execute_result"
    }
   ],
   "source": [
    "def selectionsort(arr):\n",
    "    for i in range(len(arr)-1):\n",
    "        min_idx=i\n",
    "        for j in range(i+1,len(arr)):\n",
    "            if arr[min_idx] > arr[j]:\n",
    "                min_idx = j\n",
    "        arr[i], arr[min_idx] = arr[min_idx], arr[i]\n",
    "    return arr\n",
    "\n",
    "selectionsort([7,5,9,0,3,1,6,2,4,8])"
   ]
  },
  {
   "cell_type": "markdown",
   "id": "fb8f31c5",
   "metadata": {},
   "source": [
    "## 삽입 정렬(InsertionSort)"
   ]
  },
  {
   "cell_type": "code",
   "execution_count": 5,
   "id": "2b0a287d",
   "metadata": {},
   "outputs": [
    {
     "data": {
      "text/plain": [
       "[0, 1, 2, 3, 4, 5, 6, 7, 8, 9]"
      ]
     },
     "execution_count": 5,
     "metadata": {},
     "output_type": "execute_result"
    }
   ],
   "source": [
    "def insertionsort(arr):\n",
    "    for i in range(1,len(arr)):\n",
    "        while i>0 and arr[i] < arr[i-1]:\n",
    "            arr[i],arr[i-1] = arr[i-1],arr[i]\n",
    "            i-=1\n",
    "    return arr\n",
    "insertionsort([7,5,9,0,3,1,6,2,4,8])"
   ]
  },
  {
   "cell_type": "markdown",
   "id": "229702fa",
   "metadata": {},
   "source": [
    "## 퀵 정렬 (QuickSort)"
   ]
  },
  {
   "cell_type": "code",
   "execution_count": 10,
   "id": "1b58a699",
   "metadata": {},
   "outputs": [
    {
     "data": {
      "text/plain": [
       "[0, 1, 2, 3, 4, 5, 6, 7, 8, 9]"
      ]
     },
     "execution_count": 10,
     "metadata": {},
     "output_type": "execute_result"
    }
   ],
   "source": [
    "def quicksort(array,start,end):\n",
    "    if start >= end : return array\n",
    "    \n",
    "    pivot = start\n",
    "    left = start+1\n",
    "    right = end\n",
    "    while left <= right:\n",
    "        while left <= end and array[left] <= array[pivot]:\n",
    "            left += 1\n",
    "        while right > start and array[right] >= array[pivot]:\n",
    "            right -= 1\n",
    "        if left > right:\n",
    "            array[right], array[pivot] = array[pivot], array[right]\n",
    "        else:\n",
    "            array[left], array[right] = array[right], array[left]\n",
    "    quicksort(array,start,right-1)\n",
    "    quicksort(array,right+1,end)\n",
    "    \n",
    "    return array\n",
    "quicksort([7,5,9,0,3,1,6,2,4,8],0,9)"
   ]
  },
  {
   "cell_type": "code",
   "execution_count": 12,
   "id": "d5fa6411",
   "metadata": {},
   "outputs": [
    {
     "data": {
      "text/plain": [
       "[0, 1, 2, 3, 4, 5, 6, 7, 8, 9]"
      ]
     },
     "execution_count": 12,
     "metadata": {},
     "output_type": "execute_result"
    }
   ],
   "source": [
    "def Quicksort(array):\n",
    "    if len(array) < 2 : return array\n",
    "    \n",
    "    pivot = array[0]\n",
    "    tail = array[1:]\n",
    "    \n",
    "    less_array = [x for x in tail if x <= pivot]\n",
    "    greater_array = [x for x in tail if x > pivot]\n",
    "    \n",
    "    return Quicksort(less_array) + [pivot] + Quicksort(greater_array)\n",
    "\n",
    "Quicksort([7,5,9,0,3,1,6,2,4,8])"
   ]
  },
  {
   "cell_type": "code",
   "execution_count": 24,
   "id": "9692ccf6",
   "metadata": {},
   "outputs": [
    {
     "data": {
      "text/plain": [
       "[0, 1, 2, 3, 4, 5, 6, 7, 8, 9]"
      ]
     },
     "execution_count": 24,
     "metadata": {},
     "output_type": "execute_result"
    }
   ],
   "source": [
    "def QuickSort(array):\n",
    "    def sort(low,high):\n",
    "        if high <= low : return \n",
    "        mid = partition(low,high)\n",
    "        sort(low,mid-1)\n",
    "        sort(mid,high)\n",
    "        return  array\n",
    "\n",
    "    def partition(low,high):\n",
    "        pivot = array[(low+high)//2]\n",
    "        while low <= high:\n",
    "            while array[low] < pivot:\n",
    "                low += 1\n",
    "            while array[high] > pivot:\n",
    "                high -= 1\n",
    "            if low <= high :\n",
    "                array[low],array[high] = array[high], array[low]\n",
    "                low, high = low+1, high-1\n",
    "        return low\n",
    "    \n",
    "    return sort(0, len(array)-1)\n",
    "    \n",
    "QuickSort([7,5,9,0,3,1,6,2,4,8])  "
   ]
  },
  {
   "cell_type": "markdown",
   "id": "bedbb432",
   "metadata": {},
   "source": [
    "## 계수 정렬(Count Sort)"
   ]
  },
  {
   "cell_type": "code",
   "execution_count": 27,
   "id": "bc8e0484",
   "metadata": {},
   "outputs": [
    {
     "data": {
      "text/plain": [
       "[0, 1, 2, 3, 4, 5, 6, 7, 8, 9]"
      ]
     },
     "execution_count": 27,
     "metadata": {},
     "output_type": "execute_result"
    }
   ],
   "source": [
    "def countsort(arr):\n",
    "    result=[]\n",
    "    count = [0] * (max(arr)+1)\n",
    "    for i in range(len(arr)):\n",
    "        count[arr[i]] += 1\n",
    "    for i in range(len(count)):\n",
    "        for j in range(count[i]):\n",
    "            result.append(i)\n",
    "    return result\n",
    "countsort([7,5,9,0,3,1,6,2,4,8])"
   ]
  },
  {
   "cell_type": "markdown",
   "id": "f6ec846a",
   "metadata": {},
   "source": [
    "## 실전 문제 : 위에서 아래로"
   ]
  },
  {
   "cell_type": "code",
   "execution_count": 28,
   "id": "1a01fc1b",
   "metadata": {
    "scrolled": true
   },
   "outputs": [
    {
     "name": "stdout",
     "output_type": "stream",
     "text": [
      "3\n",
      "15\n",
      "27\n",
      "12\n",
      "27 15 12 "
     ]
    }
   ],
   "source": [
    "N = int(input())\n",
    "result =[]\n",
    "for i in range(N):\n",
    "    num = int(input())\n",
    "    result.append(num)\n",
    "\n",
    "result.sort(reverse=True)\n",
    "\n",
    "for i in range(N):\n",
    "    print(result[i], end=' ')"
   ]
  },
  {
   "cell_type": "markdown",
   "id": "e7f546ae",
   "metadata": {},
   "source": [
    "## 실전 문제 : 성적이 낮은 순서로 학생 출력하기"
   ]
  },
  {
   "cell_type": "code",
   "execution_count": 30,
   "id": "3b9c8609",
   "metadata": {},
   "outputs": [
    {
     "name": "stdout",
     "output_type": "stream",
     "text": [
      "2\n",
      "홍길동 95\n",
      "이순신 77\n",
      "이순신 홍길동 "
     ]
    }
   ],
   "source": [
    "N = int(input())\n",
    "result=[]\n",
    "for i in range(N):\n",
    "    name, score = input().split()\n",
    "    score = int(score)\n",
    "    result.append((name,score))\n",
    "    \n",
    "result.sort(key=lambda x : x[1])\n",
    "\n",
    "for i in range(N):\n",
    "    print(result[i][0], end=' ')"
   ]
  },
  {
   "cell_type": "markdown",
   "id": "bc298065",
   "metadata": {},
   "source": [
    "## 실전 문제 : 두 배열의 원소 교체"
   ]
  },
  {
   "cell_type": "code",
   "execution_count": 36,
   "id": "10af7b0e",
   "metadata": {},
   "outputs": [
    {
     "name": "stdout",
     "output_type": "stream",
     "text": [
      "5 3\n",
      "1 2 5 4 3\n",
      "5 5 6 5 5\n",
      "25\n"
     ]
    }
   ],
   "source": [
    "N, K = map(int,input().split())\n",
    "A = list(map(int,input().split()))\n",
    "B = list(map(int,input().split()))\n",
    "\n",
    "A.sort()\n",
    "B.sort(reverse=True)\n",
    "\n",
    "for i in range(K):\n",
    "    if A[i] < B[i]:\n",
    "        A[i], B[i] = B[i], A[i]\n",
    "    else:\n",
    "        break\n",
    "\n",
    "print(sum(A))"
   ]
  },
  {
   "cell_type": "code",
   "execution_count": 19,
   "id": "26dc7557",
   "metadata": {},
   "outputs": [
    {
     "name": "stdout",
     "output_type": "stream",
     "text": [
      "5 3\n",
      "1 2 5 4 3\n",
      "5 5 6 6 5\n",
      "26\n"
     ]
    }
   ],
   "source": [
    "N,K = map(int,input().split())\n",
    "A = list(map(int,input().split()))\n",
    "B = list(map(int,input().split()))\n",
    "A.sort()\n",
    "B.sort(reverse=True)\n",
    "for i in range(K):\n",
    "    if A[i] > B[i]:\n",
    "        break\n",
    "    A[i], B[i] = B[i], A[i]\n",
    "print(sum(A))"
   ]
  },
  {
   "cell_type": "code",
   "execution_count": 20,
   "id": "4ef03997",
   "metadata": {},
   "outputs": [
    {
     "name": "stdout",
     "output_type": "stream",
     "text": [
      "[6, 6, 5, 4, 5]\n",
      "[1, 2, 3, 5, 5]\n"
     ]
    }
   ],
   "source": [
    "print(A)\n",
    "print(B)"
   ]
  },
  {
   "cell_type": "code",
   "execution_count": null,
   "id": "84568bbf",
   "metadata": {},
   "outputs": [],
   "source": []
  },
  {
   "cell_type": "code",
   "execution_count": null,
   "id": "eb2acc2b",
   "metadata": {},
   "outputs": [],
   "source": []
  }
 ],
 "metadata": {
  "kernelspec": {
   "display_name": "Python 3",
   "language": "python",
   "name": "python3"
  },
  "language_info": {
   "codemirror_mode": {
    "name": "ipython",
    "version": 3
   },
   "file_extension": ".py",
   "mimetype": "text/x-python",
   "name": "python",
   "nbconvert_exporter": "python",
   "pygments_lexer": "ipython3",
   "version": "3.8.8"
  }
 },
 "nbformat": 4,
 "nbformat_minor": 5
}
