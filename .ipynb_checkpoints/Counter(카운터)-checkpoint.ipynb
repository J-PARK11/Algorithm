{
 "cells": [
  {
   "cell_type": "markdown",
   "id": "c36310dc",
   "metadata": {},
   "source": [
    "## Counter(카운터)"
   ]
  },
  {
   "cell_type": "code",
   "execution_count": 3,
   "id": "bd0c817f",
   "metadata": {},
   "outputs": [
    {
     "name": "stdout",
     "output_type": "stream",
     "text": [
      "{'h': 1, 'e': 1, 'l': 3, 'o': 2, ' ': 1, 'w': 1, 'r': 1, 'd': 1}\n"
     ]
    }
   ],
   "source": [
    "def countLetters(word):\n",
    "    counter = {}\n",
    "    for letter in word:\n",
    "        if letter not in counter:\n",
    "            counter[letter] = 0\n",
    "        counter[letter] += 1\n",
    "    return counter\n",
    "\n",
    "print(countLetters('hello world'))"
   ]
  },
  {
   "cell_type": "code",
   "execution_count": 4,
   "id": "f6763a00",
   "metadata": {},
   "outputs": [
    {
     "data": {
      "text/plain": [
       "Counter({'h': 1, 'e': 1, 'l': 3, 'o': 2, ' ': 1, 'w': 1, 'r': 1, 'd': 1})"
      ]
     },
     "execution_count": 4,
     "metadata": {},
     "output_type": "execute_result"
    }
   ],
   "source": [
    "from collections import Counter\n",
    "Counter('hello world')"
   ]
  },
  {
   "cell_type": "code",
   "execution_count": 5,
   "id": "be6a4028",
   "metadata": {},
   "outputs": [
    {
     "data": {
      "text/plain": [
       "[('l', 3),\n",
       " ('o', 2),\n",
       " ('h', 1),\n",
       " ('e', 1),\n",
       " (' ', 1),\n",
       " ('w', 1),\n",
       " ('r', 1),\n",
       " ('d', 1)]"
      ]
     },
     "execution_count": 5,
     "metadata": {},
     "output_type": "execute_result"
    }
   ],
   "source": [
    "Counter('hello world').most_common()"
   ]
  },
  {
   "cell_type": "code",
   "execution_count": 8,
   "id": "091a220f",
   "metadata": {},
   "outputs": [
    {
     "data": {
      "text/plain": [
       "('l', 3)"
      ]
     },
     "execution_count": 8,
     "metadata": {},
     "output_type": "execute_result"
    }
   ],
   "source": [
    "def Find_max(word):\n",
    "    counter = Counter(word)\n",
    "    max_count = -1\n",
    "    for letter in word:\n",
    "        if counter[letter] > max_count:\n",
    "            max_count = counter[letter]\n",
    "            max_letter = letter\n",
    "    return (max_letter,max_count)\n",
    "\n",
    "Find_max('hello world')"
   ]
  }
 ],
 "metadata": {
  "kernelspec": {
   "display_name": "Python 3",
   "language": "python",
   "name": "python3"
  },
  "language_info": {
   "codemirror_mode": {
    "name": "ipython",
    "version": 3
   },
   "file_extension": ".py",
   "mimetype": "text/x-python",
   "name": "python",
   "nbconvert_exporter": "python",
   "pygments_lexer": "ipython3",
   "version": "3.8.8"
  }
 },
 "nbformat": 4,
 "nbformat_minor": 5
}
